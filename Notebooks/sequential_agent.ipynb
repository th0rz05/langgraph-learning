{
 "cells": [
  {
   "cell_type": "code",
   "execution_count": 1,
   "id": "6d52fc32",
   "metadata": {},
   "outputs": [],
   "source": [
    "from typing import List, TypedDict\n",
    "from langgraph.graph import StateGraph"
   ]
  },
  {
   "cell_type": "code",
   "execution_count": 2,
   "id": "d044c87c",
   "metadata": {},
   "outputs": [],
   "source": [
    "class AgentState(TypedDict):\n",
    "    name:str\n",
    "    skills:List[str]\n",
    "    age:str\n",
    "    result:str\n",
    "\n",
    "def compliment_node(state: AgentState) -> AgentState:\n",
    "    \"\"\"AgentState processing node that adds a compliment to the name.\"\"\"\n",
    "\n",
    "    state['result'] = state['name'] + \", welcome to the system!\"\n",
    "    return state\n",
    "\n",
    "def age_node(state: AgentState) -> AgentState:\n",
    "    \"\"\"AgentState processing node that adds a message about the age.\"\"\"\n",
    "    state['result'] = state['result'] + f\" You are {state['age']} years old!\"\n",
    "    return state\n",
    "\n",
    "def skills_node(state: AgentState) -> AgentState:\n",
    "    \"\"\"AgentState processing node that adds a message about the skills.\"\"\"\n",
    "    state['result'] = state['result'] + f\" Your skills are: {', '.join(state['skills'])}.\"\n",
    "    return state"
   ]
  },
  {
   "cell_type": "code",
   "execution_count": 3,
   "id": "1324c330",
   "metadata": {},
   "outputs": [],
   "source": [
    "graph = StateGraph(AgentState)\n",
    "\n",
    "graph.add_node(\"compliment_node\", compliment_node)\n",
    "graph.add_node(\"age_node\", age_node)\n",
    "graph.add_node(\"skills_node\", skills_node)\n",
    "\n",
    "graph.set_entry_point(\"compliment_node\")\n",
    "graph.add_edge(\"compliment_node\", \"age_node\")\n",
    "graph.add_edge(\"age_node\", \"skills_node\")\n",
    "graph.set_finish_point(\"skills_node\")\n",
    "\n",
    "app = graph.compile()\n"
   ]
  },
  {
   "cell_type": "code",
   "execution_count": 4,
   "id": "c81727ab",
   "metadata": {},
   "outputs": [
    {
     "data": {
      "image/png": "[encoded data removed]",
      "text/plain": [
       "<IPython.core.display.Image object>"
      ]
     },
     "metadata": {},
     "output_type": "display_data"
    }
   ],
   "source": [
    "from IPython.display import Image,display\n",
    "\n",
    "display(Image(app.get_graph().draw_mermaid_png()))\n"
   ]
  },
  {
   "cell_type": "code",
   "execution_count": 5,
   "id": "16df972b",
   "metadata": {},
   "outputs": [
    {
     "data": {
      "text/plain": [
       "'Linda, welcome to the system! You are 30 years old! Your skills are: Python, AI.'"
      ]
     },
     "execution_count": 5,
     "metadata": {},
     "output_type": "execute_result"
    }
   ],
   "source": [
    "answers = app.invoke({\"name\": \"Linda\", \"age\": 30, \"skills\": [\"Python\", \"AI\"]})\n",
    "\n",
    "answers['result']"
   ]
  }
 ],
 "metadata": {
  "kernelspec": {
   "display_name": "venv",
   "language": "python",
   "name": "python3"
  },
  "language_info": {
   "codemirror_mode": {
    "name": "ipython",
    "version": 3
   },
   "file_extension": ".py",
   "mimetype": "text/x-python",
   "name": "python",
   "nbconvert_exporter": "python",
   "pygments_lexer": "ipython3",
   "version": "3.12.8"
  }
 },
 "nbformat": 4,
 "nbformat_minor": 5
}
